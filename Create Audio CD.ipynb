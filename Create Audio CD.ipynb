{
 "cells": [
  {
   "cell_type": "code",
   "execution_count": null,
   "metadata": {},
   "outputs": [],
   "source": [
    "import os\n",
    "import subprocess\n",
    "from IPython.display import Audio\n",
    "import pandas as pd\n",
    "\n",
    "BASE = \".\"\n",
    "INPUT = \"cd1in\"\n",
    "OUPUT = \"cd1out\"\n",
    "\n",
    "def create_directory(directory):\n",
    "    if not os.path.exists(directory):\n",
    "        os.makedirs(directory)\n",
    "        print(directory, \"Created!\")\n",
    "    else:\n",
    "        print(directory, \"Exists!\")\n",
    "\n",
    "def rename_replace_symbol(directory, old='_', new=' '):\n",
    "    for filename in os.listdir(directory):\n",
    "        os.rename(os.path.join(directory, filename), os.path.join(directory, filename.replace(old, new)))\n",
    "    \n",
    "input_directory = os.path.join(BASE, INPUT)\n",
    "output_directory = os.path.join(BASE, OUPUT)\n",
    "\n",
    "create_directory(input_directory)\n",
    "create_directory(output_directory)\n",
    "rename_replace_symbol(input_directory)"
   ]
  },
  {
   "cell_type": "code",
   "execution_count": null,
   "metadata": {
    "scrolled": true
   },
   "outputs": [],
   "source": [
    "df = pd.DataFrame()\n",
    "for i, file in enumerate(sorted(os.listdir(input_directory))):\n",
    "    input_file = os.path.join(input_directory, file)\n",
    "    ouput_wav_file = os.path.join(output_directory,\n",
    "                                  ' '.join(['{0:02d}.'.format(i+1),\n",
    "                                           file.replace(\".mp3\",\".wav\")]))\n",
    "    print(input_file)\n",
    "    print(ouput_wav_file)\n",
    "    print(\"=\"*75)\n",
    "    subprocess.call([\"ffmpeg\",\"-i\", input_file, ouput_wav_file])\n",
    "    df = df.append({'mp3': input_file, 'wav': ouput_wav_file.replace(\"_\",\" \")}, ignore_index=True)\n",
    "\n",
    "rename_files(output_directory, back=True)"
   ]
  },
  {
   "cell_type": "code",
   "execution_count": null,
   "metadata": {},
   "outputs": [],
   "source": [
    "sound = df.iloc[-1][\"wav\"]\n",
    "print(sound)\n",
    "Audio(url=sound, autoplay=False)"
   ]
  }
 ],
 "metadata": {
  "kernelspec": {
   "display_name": "Python 3",
   "language": "python",
   "name": "python3"
  },
  "language_info": {
   "codemirror_mode": {
    "name": "ipython",
    "version": 3
   },
   "file_extension": ".py",
   "mimetype": "text/x-python",
   "name": "python",
   "nbconvert_exporter": "python",
   "pygments_lexer": "ipython3",
   "version": "3.6.6"
  }
 },
 "nbformat": 4,
 "nbformat_minor": 2
}
